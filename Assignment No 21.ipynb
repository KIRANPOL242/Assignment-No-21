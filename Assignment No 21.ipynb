{
 "cells": [
  {
   "cell_type": "markdown",
   "metadata": {},
   "source": [
    "# Assignment No 21"
   ]
  },
  {
   "cell_type": "code",
   "execution_count": null,
   "metadata": {},
   "outputs": [],
   "source": []
  },
  {
   "cell_type": "markdown",
   "metadata": {},
   "source": [
    "Question 1 Add the current date to the text file today.txt as a string."
   ]
  },
  {
   "cell_type": "code",
   "execution_count": 16,
   "metadata": {},
   "outputs": [
    {
     "name": "stdout",
     "output_type": "stream",
     "text": [
      "10-03-2022\n"
     ]
    }
   ],
   "source": [
    "import datetime\n",
    "f=open('today.txt','w')   \n",
    "f.write(datetime.datetime.now().strftime('%d-%m-%Y'))\n",
    "f.close()\n",
    "f=open('today.txt','r')\n",
    "print(f.read())\n",
    "f.close()"
   ]
  },
  {
   "cell_type": "code",
   "execution_count": null,
   "metadata": {},
   "outputs": [],
   "source": []
  },
  {
   "cell_type": "markdown",
   "metadata": {},
   "source": [
    "Question 2 Read the text file today.txt into the string today_string"
   ]
  },
  {
   "cell_type": "code",
   "execution_count": null,
   "metadata": {},
   "outputs": [],
   "source": []
  },
  {
   "cell_type": "code",
   "execution_count": 20,
   "metadata": {},
   "outputs": [
    {
     "name": "stdout",
     "output_type": "stream",
     "text": [
      "10-03-2022\n"
     ]
    }
   ],
   "source": [
    "f=open('today.txt','r')\n",
    "today_string=f.read()\n",
    "print(today_string)"
   ]
  },
  {
   "cell_type": "code",
   "execution_count": null,
   "metadata": {},
   "outputs": [],
   "source": []
  },
  {
   "cell_type": "markdown",
   "metadata": {},
   "source": [
    "Question 3 Parse the date from today_string."
   ]
  },
  {
   "cell_type": "code",
   "execution_count": null,
   "metadata": {},
   "outputs": [],
   "source": []
  },
  {
   "cell_type": "code",
   "execution_count": 23,
   "metadata": {},
   "outputs": [
    {
     "name": "stdout",
     "output_type": "stream",
     "text": [
      "2022-03-10 00:00:00\n"
     ]
    }
   ],
   "source": [
    "from datetime import datetime\n",
    "parsed_data = datetime.strptime(today_string, '%d-%m-%Y')\n",
    "print(parsed_data)"
   ]
  },
  {
   "cell_type": "code",
   "execution_count": null,
   "metadata": {},
   "outputs": [],
   "source": []
  },
  {
   "cell_type": "markdown",
   "metadata": {},
   "source": [
    "Question 4 List the files in your current directory"
   ]
  },
  {
   "cell_type": "code",
   "execution_count": null,
   "metadata": {},
   "outputs": [],
   "source": []
  },
  {
   "cell_type": "code",
   "execution_count": 37,
   "metadata": {},
   "outputs": [
    {
     "name": "stdout",
     "output_type": "stream",
     "text": [
      "Assignment No 10.ipynb\n",
      "Assignment NO 11.ipynb\n",
      "Assignment No 12.ipynb\n",
      "Assignment No 13.ipynb\n",
      "Assignment No 14.ipynb\n",
      "Assignment No 15.ipynb\n",
      "Assignment No 17.ipynb\n",
      "Assignment No 19.ipynb\n",
      "Assignment No 20.ipynb\n",
      "Assignment No 21.ipynb\n",
      "Assignment No 5.ipynb\n",
      "Assignment No 6.ipynb\n",
      "Assignment No 7.ipynb\n",
      "Assignment No 8.ipynb\n",
      "Assignment No 9.ipynb\n",
      "Assignment No16.ipynb\n",
      "Assignment No18.ipynb\n",
      "Assignment_1.docx\n",
      "Assignment_10.docx\n",
      "Assignment_11.docx\n",
      "Assignment_12.docx\n",
      "Assignment_13.docx\n",
      "Assignment_14.docx\n",
      "Assignment_15.docx\n",
      "Assignment_16.docx\n",
      "Assignment_17.docx\n",
      "Assignment_18.docx\n",
      "Assignment_19.docx\n",
      "Assignment_20.docx\n",
      "Assignment_21.docx\n",
      "Assignment_22.docx\n",
      "Assignment_23.docx\n",
      "Assignment_24.docx\n",
      "Assignment_25.docx\n",
      "Assignment_3.docx\n",
      "Assignment_4.docx\n",
      "Assignment_5.docx\n",
      "Assignment_6.docx\n",
      "Assignment_7.docx\n",
      "Assignment_8.docx\n",
      "Assignment_9.docx\n",
      "books.csv\n",
      "books.db\n",
      "countries.csv\n",
      "today.txt\n",
      "Untitled.ipynb\n",
      "zoo.py\n",
      "Assignment No 15-checkpoint.ipynb\n",
      "Assignment No 17-checkpoint.ipynb\n",
      "Assignment No 19-checkpoint.ipynb\n",
      "Assignment No 20-checkpoint.ipynb\n",
      "Assignment No 21-checkpoint.ipynb\n",
      "Assignment No16-checkpoint.ipynb\n",
      "Assignment No18-checkpoint.ipynb\n",
      "Untitled-checkpoint.ipynb\n",
      "zoo.py-checkpoint.ipynb\n",
      "zoo.cpython-37.pyc\n"
     ]
    }
   ],
   "source": [
    "import os\n",
    "for folders,subfolders,files in os.walk(os.getcwd()):\n",
    "    for file in files:\n",
    "        print(file)   "
   ]
  },
  {
   "cell_type": "code",
   "execution_count": null,
   "metadata": {},
   "outputs": [],
   "source": []
  },
  {
   "cell_type": "markdown",
   "metadata": {},
   "source": [
    "Question 5 - Create a list of all of the files in your parent directory (minimum five files should be available)."
   ]
  },
  {
   "cell_type": "code",
   "execution_count": null,
   "metadata": {},
   "outputs": [],
   "source": []
  },
  {
   "cell_type": "code",
   "execution_count": 38,
   "metadata": {},
   "outputs": [
    {
     "data": {
      "text/plain": [
       "['.ipynb_checkpoints',\n",
       " 'Assignment No 10.ipynb',\n",
       " 'Assignment NO 11.ipynb',\n",
       " 'Assignment No 12.ipynb',\n",
       " 'Assignment No 13.ipynb',\n",
       " 'Assignment No 14.ipynb',\n",
       " 'Assignment No 15.ipynb',\n",
       " 'Assignment No 17.ipynb',\n",
       " 'Assignment No 19.ipynb',\n",
       " 'Assignment No 20.ipynb',\n",
       " 'Assignment No 21.ipynb',\n",
       " 'Assignment No 5.ipynb',\n",
       " 'Assignment No 6.ipynb',\n",
       " 'Assignment No 7.ipynb',\n",
       " 'Assignment No 8.ipynb',\n",
       " 'Assignment No 9.ipynb',\n",
       " 'Assignment No16.ipynb',\n",
       " 'Assignment No18.ipynb',\n",
       " 'Assignment_1.docx',\n",
       " 'Assignment_10.docx',\n",
       " 'Assignment_11.docx',\n",
       " 'Assignment_12.docx',\n",
       " 'Assignment_13.docx',\n",
       " 'Assignment_14.docx',\n",
       " 'Assignment_15.docx',\n",
       " 'Assignment_16.docx',\n",
       " 'Assignment_17.docx',\n",
       " 'Assignment_18.docx',\n",
       " 'Assignment_19.docx',\n",
       " 'Assignment_20.docx',\n",
       " 'Assignment_21.docx',\n",
       " 'Assignment_22.docx',\n",
       " 'Assignment_23.docx',\n",
       " 'Assignment_24.docx',\n",
       " 'Assignment_25.docx',\n",
       " 'Assignment_3.docx',\n",
       " 'Assignment_4.docx',\n",
       " 'Assignment_5.docx',\n",
       " 'Assignment_6.docx',\n",
       " 'Assignment_7.docx',\n",
       " 'Assignment_8.docx',\n",
       " 'Assignment_9.docx',\n",
       " 'books.csv',\n",
       " 'books.db',\n",
       " 'countries.csv',\n",
       " 'today.txt',\n",
       " 'Untitled.ipynb',\n",
       " 'zoo.py',\n",
       " '__pycache__']"
      ]
     },
     "execution_count": 38,
     "metadata": {},
     "output_type": "execute_result"
    }
   ],
   "source": [
    "os.listdir()"
   ]
  },
  {
   "cell_type": "code",
   "execution_count": null,
   "metadata": {},
   "outputs": [],
   "source": []
  },
  {
   "cell_type": "markdown",
   "metadata": {},
   "source": [
    "Question 6 Use multiprocessing to create three separate processes. Make each one wait a random number of seconds between one and five, print the current time, and then exit."
   ]
  },
  {
   "cell_type": "code",
   "execution_count": null,
   "metadata": {},
   "outputs": [],
   "source": []
  },
  {
   "cell_type": "code",
   "execution_count": 5,
   "metadata": {},
   "outputs": [],
   "source": [
    "import multiprocessing\n",
    "import datetime\n",
    "import time\n",
    "import random\n",
    "\n",
    "def myfirst_process():\n",
    "    print('Process One Starting and start time is {}'.format(datetime.datetime.now()))\n",
    "    time.sleep(random.randint(1,5))\n",
    "    print('Process One Endtime {}'.format(datetime.datetime.now()))\n",
    "\n",
    "def mysecond_process():\n",
    "    print('Process two Starting and start time is {}'.format(datetime.datetime.now()))\n",
    "    time.sleep(random.randint(1,5))\n",
    "    print('Process two Endtime {}'.format(datetime.datetime.now()))\n",
    "    \n",
    "def mythird_process():\n",
    "    print('Process Three Starting and start time is {}'.format(datetime.datetime.now()))\n",
    "    time.sleep(random.randint(1,5))\n",
    "    print('Process Third Endtime {}'.format(datetime.datetime.now()))\n",
    "\n",
    "if __name__=='__main__':\n",
    "    p1=multiprocessing.Process(target=myfirst_process)\n",
    "    p2=multiprocessing.Process(target=mysecond_process)\n",
    "    p3=multiprocessing.Process(target=mythird_process)\n",
    "    \n",
    "    p1.start()\n",
    "    p2.start()\n",
    "    p3.start()\n",
    "    \n",
    "    p1.join()  # Wait till child process is to be terminate\n",
    "    p2.join()\n",
    "    p3.join()\n",
    "    \n",
    "    p1.close()\n",
    "    p2.close()\n",
    "    p2.close()\n"
   ]
  },
  {
   "cell_type": "markdown",
   "metadata": {},
   "source": []
  },
  {
   "cell_type": "markdown",
   "metadata": {},
   "source": [
    "Question 7 Create a date object of your day of birth."
   ]
  },
  {
   "cell_type": "code",
   "execution_count": 10,
   "metadata": {},
   "outputs": [
    {
     "name": "stdout",
     "output_type": "stream",
     "text": [
      "My date of birth is 1985-12-09 00:00:00\n"
     ]
    }
   ],
   "source": [
    "from datetime import datetime\n",
    "dob=datetime.strptime('09/12/1985','%d/%m/%Y')\n",
    "print('My date of birth is {}'.format(dob))"
   ]
  },
  {
   "cell_type": "code",
   "execution_count": null,
   "metadata": {},
   "outputs": [],
   "source": []
  },
  {
   "cell_type": "markdown",
   "metadata": {},
   "source": [
    "Question 8 What day of the week was your day of birth?"
   ]
  },
  {
   "cell_type": "code",
   "execution_count": null,
   "metadata": {},
   "outputs": [],
   "source": []
  },
  {
   "cell_type": "code",
   "execution_count": 12,
   "metadata": {},
   "outputs": [
    {
     "data": {
      "text/plain": [
       "'Monday'"
      ]
     },
     "execution_count": 12,
     "metadata": {},
     "output_type": "execute_result"
    }
   ],
   "source": [
    "dob.strftime('%A')"
   ]
  },
  {
   "cell_type": "code",
   "execution_count": null,
   "metadata": {},
   "outputs": [],
   "source": []
  },
  {
   "cell_type": "markdown",
   "metadata": {},
   "source": [
    "Question 9  When will you be (or when were you) 10,000 days old?"
   ]
  },
  {
   "cell_type": "code",
   "execution_count": null,
   "metadata": {},
   "outputs": [],
   "source": []
  },
  {
   "cell_type": "code",
   "execution_count": 20,
   "metadata": {},
   "outputs": [
    {
     "name": "stdout",
     "output_type": "stream",
     "text": [
      "I was 10000 days old on 2013-04-26 00:00:00\n"
     ]
    }
   ],
   "source": [
    "from datetime import timedelta\n",
    "pred_date=dob+timedelta(10000)\n",
    "print('I was 10000 days old on {}'.format(pred_date))"
   ]
  },
  {
   "cell_type": "code",
   "execution_count": null,
   "metadata": {},
   "outputs": [],
   "source": []
  }
 ],
 "metadata": {
  "kernelspec": {
   "display_name": "Python 3",
   "language": "python",
   "name": "python3"
  },
  "language_info": {
   "codemirror_mode": {
    "name": "ipython",
    "version": 3
   },
   "file_extension": ".py",
   "mimetype": "text/x-python",
   "name": "python",
   "nbconvert_exporter": "python",
   "pygments_lexer": "ipython3",
   "version": "3.7.1"
  }
 },
 "nbformat": 4,
 "nbformat_minor": 2
}
